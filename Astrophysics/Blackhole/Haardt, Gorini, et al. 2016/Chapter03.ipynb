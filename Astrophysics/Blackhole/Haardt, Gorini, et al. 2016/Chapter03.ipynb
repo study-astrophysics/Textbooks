{
 "cells": [
  {
   "cell_type": "markdown",
   "id": "b9d37475",
   "metadata": {},
   "source": [
    "# Chapter 3. The Balance of Power: Accretion and Feedback in Stellar Mass Black Holes"
   ]
  },
  {
   "cell_type": "markdown",
   "id": "96e98536",
   "metadata": {},
   "source": [
    "# 3.1 Introduction"
   ]
  },
  {
   "cell_type": "markdown",
   "id": "598fcf05",
   "metadata": {},
   "source": [
    "## 3.1.1 Accretion"
   ]
  },
  {
   "cell_type": "markdown",
   "id": "8b577c83",
   "metadata": {},
   "source": [
    "### Energy change per unit mass\n",
    "\n",
    "$$ \\large \\Delta E \\ = \\ - \\frac{GM}{R} + \\frac{GM}{\\infty} \\ = \\ - \\frac{GM}{R} \\ \\propto \\frac{M}{R} $$\n",
    "\n",
    "- Ratio of mass to radius\n",
    "    - more compact $\\rightarrow$ more efficient accretion"
   ]
  },
  {
   "cell_type": "markdown",
   "id": "eab8d73a",
   "metadata": {},
   "source": [
    "Much likely is either/both of a jet with a relatively low (compared to the inwards accretion rate) mass loading, or ejection of significant mass from further out in the gravitational potential (wind), powered by the central accretion of mass."
   ]
  },
  {
   "cell_type": "markdown",
   "id": "e38074f7",
   "metadata": {},
   "source": [
    "## 3.1.2 Stellar Mass Black Holes"
   ]
  },
  {
   "cell_type": "markdown",
   "id": "1ec7ff57",
   "metadata": {},
   "source": [
    "- Few - 20 $M_\\odot$\n",
    "\n",
    "- Their masses do not represent any significant accumulation of mass via accretion or merger.\n",
    "\n",
    "- Evidence\n",
    "    - Optical spectroscopy of low-mass X-ray binaries (LMXB)\n",
    "    - X-ray and/or optical fluxes as a function of time\n",
    "        - inclination of the binary\n",
    "        - constraint of BH mass\n",
    "    - 20 dynamic BH / ~ 40 BH candidates (with NS)\n",
    "        - low discovery rate (~2 per year): ~ 1%\n",
    "    - $10^8$ ~ $10^9$ stellar mass BHs in the MW\n",
    "        - based on the SN rate\n",
    "    - Mass gap between NS and BH\n",
    "        - 2 $M_\\odot$: NS\n",
    "        - 4-5 $M_\\odot$: BH"
   ]
  },
  {
   "cell_type": "markdown",
   "id": "4dbb17f3",
   "metadata": {},
   "source": [
    "# 3.2 Patterns of Disc-Jet Coupling"
   ]
  },
  {
   "cell_type": "markdown",
   "id": "be203c12",
   "metadata": {},
   "source": [
    "![alt text](images/fig-03-03.png)"
   ]
  },
  {
   "cell_type": "markdown",
   "id": "f66ad0ce",
   "metadata": {},
   "source": [
    "- Accretion states \n",
    "    - Soft\n",
    "    - Hard\n",
    "    - they are determined by\n",
    "        - patterns of behavior in X-ray spectra\n",
    "        - timing properties\n",
    "\n",
    "\n",
    "\n",
    "Importantly, although the source is at ~2% Eddington luminosity, there is still less than a 50% change in luminosity across the transition, implying that the hard state is radiatively efficient."
   ]
  },
  {
   "cell_type": "markdown",
   "id": "f04b8cc4",
   "metadata": {},
   "source": [
    "![alt text](images/fig-03-04.png)"
   ]
  },
  {
   "cell_type": "markdown",
   "id": "48188043",
   "metadata": {},
   "source": [
    "### Outburst progresses through the following stages:\n",
    "\n",
    "1. Hard state\n",
    "    - X-ray peaks around 100 keV\n",
    "        - Thermal comptonization\n",
    "        - Some contributions from \"jet\" synchrotron\n",
    "            - powerful, quasi-steady jet\n",
    "            \n",
    "            \n",
    "2. $ \\gtrsim$ 10% Eddington luminosity: transient discrete ejection $\\rightarrow$ soft state\n",
    "    - peaks at ~ 10 keV\n",
    "    - from optically thick accretion disk\n",
    "    \n",
    "    \n",
    "3. Soft state\n",
    "    - much weaker or non-existent core jet\n",
    "    - strong accretion disc wind\n",
    "    \n",
    "    \n",
    "4. Outburst fades\n",
    "    - back to hard state (~1% Eddington luminosity)\n",
    "    - wind switched off\n",
    "    - jet backed on\n",
    "\n",
    "\n",
    "So hard states has lower Eddington luminosity?!"
   ]
  },
  {
   "cell_type": "markdown",
   "id": "4e601027",
   "metadata": {},
   "source": [
    "# 3.3 Feedback"
   ]
  },
  {
   "cell_type": "markdown",
   "id": "28000831",
   "metadata": {},
   "source": [
    "$$ \\large \\underbrace{ P_\\text{spin} }_{\\text{mostly ignored}} \\ + \\ P_\\text{accretion} \\ = \\ L_\\text{bolometric} \\ + \\ L_\\text{kinetic} \\ - \\ \\underbrace{ L_\\text{advected} }_{\\text{unique to BHs} } $$\n",
    "\n",
    "\n",
    "where\n",
    "\n",
    "\n",
    "- $P_\\text{accretion} = \\frac{G \\dot{M}_\\text{in} }{r}  = \\eta \\dot{m}c^2 \\ge 0 $\n",
    "\n",
    "\n",
    "- $P_\\text{spin}$\n",
    "    - positive\n",
    "    - negative\n",
    " \n",
    " \n",
    "- $\\eta$: accretion efficiency\n",
    "\n",
    "\n",
    "- $\\dot{m}$: accretion rate"
   ]
  },
  {
   "cell_type": "markdown",
   "id": "2ef446ad",
   "metadata": {},
   "source": [
    "### Total kinetic feedback\n",
    "\n",
    "\n",
    "$$ \\large L_\\text{kinetic} \\ = \\ L_\\text{jet} \\ + \\ L_\\text{wind} $$"
   ]
  },
  {
   "cell_type": "markdown",
   "id": "0bbfea97",
   "metadata": {},
   "source": [
    "Thus, \n",
    "\n",
    "\n",
    "### Feedback Equation\n",
    "\n",
    "\n",
    "$$ \\large \\underbrace{ P_\\text{spin} }_{\\text{mostly ignored}} \\ + \\ \\eta \\dot{m} c^2 \\ = \\ L_\\text{bolometric} \\ + \\ L_\\text{jet} \\ + \\ L_\\text{wind} \\ - \\ \\underbrace{ L_\\text{advected} }_{\\text{unique to BHs} } $$\n",
    "\n",
    "\n",
    "\n"
   ]
  },
  {
   "cell_type": "markdown",
   "id": "35a5757e",
   "metadata": {},
   "source": [
    "## 3.3.1 Radiation"
   ]
  },
  {
   "cell_type": "markdown",
   "id": "a87e9b10",
   "metadata": {},
   "source": [
    "- Easy to measure?\n",
    "    - at least high accretion rate (more than $\\gtrsim 1 \\% \\dot{M}_\\text{Edd}$) where the radiative output is dominated by X-ray emission"
   ]
  },
  {
   "cell_type": "markdown",
   "id": "41bb349b",
   "metadata": {},
   "source": [
    "### 3.3.1.1 On Radiative Efficiency"
   ]
  },
  {
   "cell_type": "markdown",
   "id": "3f85cadd",
   "metadata": {},
   "source": [
    "- ### Soft state: \n",
    "    - disk-dominated\n",
    "    - radiatively efficient $\\eta \\sim 0.1$\n",
    "\n",
    "\n",
    "- ### Hard state: ?\n",
    "    - advection-dominated: energy trapped in hot ions\n",
    "    - relativistic jets\n",
    "    - radiative efficiency drops with accretion rate\n",
    "    "
   ]
  },
  {
   "cell_type": "markdown",
   "id": "1757ab50",
   "metadata": {},
   "source": [
    "$$ \\large L_X \\propto \\dot{m}^c $$\n",
    "\n",
    "\n",
    "where\n",
    "\n",
    "\n",
    "- $c > 1$\n",
    "    - commonly, $c \\sim 2$\n",
    "    - c = 1, radiatively efficient\n",
    "    - c = 2, radiatively inefficient\n",
    "    \n",
    "In the observation, efficiency maybe comparable.\n",
    "\n",
    "When accretion rates below ~1% of $\\dot{M}_\\text{Edd}$, hard to measure the peak"
   ]
  },
  {
   "cell_type": "markdown",
   "id": "a7f8b79b",
   "metadata": {},
   "source": [
    "## 3.3.2 Jets"
   ]
  },
  {
   "cell_type": "markdown",
   "id": "80415c50",
   "metadata": {},
   "source": [
    "Mainly revealed via radio emission (distinguished by other processes)\n",
    "\n",
    "\n",
    "- Three modes in X-ray binaries\n",
    "    - steady jets\n",
    "        - in the hard state\n",
    "        - radio emission\n",
    "        - steady flat spectrum\n",
    "    - transient ejections\n",
    "        - hard $\\rightarrow$ soft\n",
    "        - radio flares observed\n",
    "        - blobs moving away from the center with $\\Gamma \\ge 2$\n",
    "    - off\n",
    "        - soft state\n",
    "        - jet is off\n",
    "        - a factor of ~ 100 below the hard state"
   ]
  },
  {
   "cell_type": "markdown",
   "id": "9a3e1164",
   "metadata": {},
   "source": [
    "### 3.3.2.1 Steady Jets\n",
    "\n",
    "- hard state\n",
    "- flat-spectrum radio emission\n",
    "- flux density at GHz scales with 1-10keV X-ray luminosity\n",
    "\n",
    "$$ \\large L_\\text{radio} \\propto L^b_X $$\n",
    "\n",
    "\n",
    "where\n",
    "\n",
    "\n",
    "- $0.6 \\le b \\le 0.7 $\n",
    "    - For GX339-4: $ b = 0.62 \\pm 0.01 $\n",
    "\n",
    "\n",
    "\n",
    "#### Figure 3.5 The correlation between GHz radio flux density and 3-9 keV X-ray flux\n",
    "\n",
    "\n",
    "\n",
    "- Key issue: the relation between a measured core (unresolved) radio luminosity and the associated kinetic power\n",
    "    - BHXRB & AGN\n",
    "\n",
    "$$ \\large L_\\text{jet} \\approx 4 \\times 10^{36} \\left( \\frac{L_{8.6}}{10^{30}} \\right)^{12/17} $$\n",
    "\n",
    "\n",
    "where\n",
    "\n",
    "\n",
    "- $L_{8.6} = 4 \\pi d^2 \\nu_{8.6} F_{8.6}$: radio luminosity\n",
    "\n",
    "\n",
    "- $d$: distance to the source\n",
    "\n",
    "\n",
    "- $\\nu_{8.6} = 8.6 \\times 10^9$ frequency (8.6 GHz) assuming a flat spectrum\n",
    "\n",
    "\n",
    "In a recent review,\n",
    "\n",
    "\n",
    "the relation between the radio core luminosty and inferred jet kinetic power\n",
    "\n",
    "\n",
    "$$ \\large L_\\text{jet} \\approx 1.6 \\times 10^{36} \\left( \\frac{L_\\text{radio}}{10^{30}} \\right)^{0.81} $$\n",
    "(based on AGN)\n",
    "\n",
    "\n",
    "**Thus, a single relation between core radio luminosity and jet power across the mass range from BHXRBs to AGN.**\n",
    "\n",
    "\n",
    "#### Figure 3.6 Total jet power vs radio luminosity of BHXRBs and AGN\n",
    "\n",
    "\n",
    "Something realized early on was that the combination of the kinetic power functions with the observed nonlinear X-ray:radio correlation was consistent with a scenario in which the jet power was scaling linearly with the accretion rate.\n",
    "\n",
    "\n",
    "This relation between accretion rate and X-ray luminosity fits in turn, roughly, with scalings proposed for radiatively inefficien accretion flows.\n"
   ]
  },
  {
   "cell_type": "markdown",
   "id": "052d1065",
   "metadata": {},
   "source": [
    "### 3.3.2.2 Transient Jets Associated with Flares\n",
    "\n",
    "\n"
   ]
  },
  {
   "cell_type": "code",
   "execution_count": null,
   "id": "f61890b3",
   "metadata": {},
   "outputs": [],
   "source": []
  }
 ],
 "metadata": {
  "kernelspec": {
   "display_name": "Python 3 (ipykernel)",
   "language": "python",
   "name": "python3"
  },
  "language_info": {
   "codemirror_mode": {
    "name": "ipython",
    "version": 3
   },
   "file_extension": ".py",
   "mimetype": "text/x-python",
   "name": "python",
   "nbconvert_exporter": "python",
   "pygments_lexer": "ipython3",
   "version": "3.9.12"
  }
 },
 "nbformat": 4,
 "nbformat_minor": 5
}
