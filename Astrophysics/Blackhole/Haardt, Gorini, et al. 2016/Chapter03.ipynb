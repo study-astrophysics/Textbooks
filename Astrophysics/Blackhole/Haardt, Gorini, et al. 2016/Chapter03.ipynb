{
 "cells": [
  {
   "cell_type": "markdown",
   "id": "b9d37475",
   "metadata": {},
   "source": [
    "# Chapter 3. The Balance of Power: Accretion and Feedback in Stellar Mass Black Holes"
   ]
  },
  {
   "cell_type": "markdown",
   "id": "96e98536",
   "metadata": {},
   "source": [
    "# 3.1 Introduction"
   ]
  },
  {
   "cell_type": "markdown",
   "id": "598fcf05",
   "metadata": {},
   "source": [
    "## 3.1.1 Accretion"
   ]
  },
  {
   "cell_type": "markdown",
   "id": "8b577c83",
   "metadata": {},
   "source": [
    "### Energy change per unit mass\n",
    "\n",
    "$$ \\large \\Delta E \\ = \\ - \\frac{GM}{R} + \\frac{GM}{\\infty} \\ = \\ - \\frac{GM}{R} \\ \\propto \\frac{M}{R} $$\n",
    "\n",
    "- Ratio of mass to radius\n",
    "    - more compact $\\rightarrow$ more efficient accretion"
   ]
  },
  {
   "cell_type": "markdown",
   "id": "eab8d73a",
   "metadata": {},
   "source": [
    "Much likely is either/both of a jet with a relatively low (compared to the inwards accretion rate) mass loading, or ejection of significant mass from further out in the gravitational potential (wind), powered by the central accretion of mass."
   ]
  },
  {
   "cell_type": "markdown",
   "id": "e38074f7",
   "metadata": {},
   "source": [
    "## 3.1.2 Stellar Mass Black Holes"
   ]
  },
  {
   "cell_type": "markdown",
   "id": "1ec7ff57",
   "metadata": {},
   "source": [
    "- Few - 20 $M_\\odot$\n",
    "\n",
    "- Their masses do not represent any significant accumulation of mass via accretion or merger.\n",
    "\n",
    "- Evidence\n",
    "    - Optical spectroscopy of low-mass X-ray binaries (LMXB)\n",
    "    - X-ray and/or optical fluxes as a function of time\n",
    "        - inclination of the binary\n",
    "        - constraint of BH mass\n",
    "    - 20 dynamic BH / ~ 40 BH candidates (with NS)\n",
    "        - low discovery rate (~2 per year): ~0.1%\n",
    "    - $10^8 ~ 10^9$ stellar mass BHs in the MW\n",
    "        - based on the SN rate\n",
    "    - Mass gap between NS and BH\n",
    "        - 2 $M_\\odot$: NS\n",
    "        - 4-5 $M_\\odot$: BH"
   ]
  },
  {
   "cell_type": "markdown",
   "id": "4dbb17f3",
   "metadata": {},
   "source": [
    "# 3.2 Patterns of Disc-Jet Coupling"
   ]
  },
  {
   "cell_type": "markdown",
   "id": "f66ad0ce",
   "metadata": {},
   "source": [
    "- Accretion states \n",
    "    - Soft\n",
    "    - Hard\n",
    "    - they are determined by\n",
    "        - patterns of behavior in X-ray spectra\n",
    "        - timing properties\n",
    "\n",
    "\n",
    "\n",
    "Importantly, although the source is at ~2% Eddington luminosity, there is still less than a 50% change in luminosity across the transition, implying that the hard state is radiatively efficient."
   ]
  },
  {
   "cell_type": "markdown",
   "id": "48188043",
   "metadata": {},
   "source": [
    "### Outburst progresses through the following stages:\n",
    "\n",
    "- Hard state\n",
    "    - X-ray peaks around 100 keV\n",
    "        - Thermal comptonization\n",
    "        - Some contributions from \"jet\" synchrotron\n",
    "            - powerful, quasi-steady jet\n",
    "            \n",
    "- $ \\gtrsim$ 10% Eddington luminosity: transient discrete ejection $\\rightarrow$ soft state\n",
    "    - peaks at ~ 10 keV\n",
    "    - from optically thick accretion disk\n",
    "    \n",
    "- Soft state\n",
    "    - much weaker or non-existent core jet\n",
    "    - strong accretion disc wind\n",
    "    \n",
    "- Outburst fades\n",
    "    - back to hard state (~1% Eddington luminosity)\n",
    "    - wind switched off\n",
    "    - jet backed on\n"
   ]
  },
  {
   "cell_type": "markdown",
   "id": "4e601027",
   "metadata": {},
   "source": [
    "# 3.3 Feedback"
   ]
  },
  {
   "cell_type": "markdown",
   "id": "28000831",
   "metadata": {},
   "source": []
  }
 ],
 "metadata": {
  "kernelspec": {
   "display_name": "Python 3 (ipykernel)",
   "language": "python",
   "name": "python3"
  },
  "language_info": {
   "codemirror_mode": {
    "name": "ipython",
    "version": 3
   },
   "file_extension": ".py",
   "mimetype": "text/x-python",
   "name": "python",
   "nbconvert_exporter": "python",
   "pygments_lexer": "ipython3",
   "version": "3.9.12"
  }
 },
 "nbformat": 4,
 "nbformat_minor": 5
}
