{
 "cells": [
  {
   "cell_type": "markdown",
   "id": "f8c36cee",
   "metadata": {},
   "source": [
    "# Numerical Methods in Astrophysics: An Introduction"
   ]
  },
  {
   "cell_type": "markdown",
   "id": "752a9ea2",
   "metadata": {},
   "source": [
    "# Chapter 3. N-Body Particle Methods"
   ]
  },
  {
   "cell_type": "markdown",
   "id": "9a681467",
   "metadata": {},
   "source": [
    "## 3.2 Euler and Runge-Kutta Methods"
   ]
  },
  {
   "cell_type": "markdown",
   "id": "bc248a02",
   "metadata": {},
   "source": [
    "$$ \\large \\frac{d^2 \\vec{x}_i}{d t^2} \\ = \\ \\sum^N_{j=1, j \\neq i} \\frac{G m_j (\\vec{x}_i - \\vec{x}_j)}{| \\vec{x}_i - \\vec{x}_j |^3} $$"
   ]
  },
  {
   "cell_type": "markdown",
   "id": "29f36c3a",
   "metadata": {},
   "source": [
    "### Set up\n",
    "\n",
    "- Initial velocities $\\vec{v}_i (t=0)$\n",
    "\n",
    "- Initial positions $\\vec{x}_i (t=0)$"
   ]
  },
  {
   "cell_type": "markdown",
   "id": "31c9b61c",
   "metadata": {},
   "source": [
    "### Solutions can describe\n",
    "\n",
    "- orbit of the Moon around the Earth\n",
    "\n",
    "- structure of the Kirkwood gaps in the asteroid belt\n",
    "\n",
    "- evolution of galbular clusters\n",
    "\n",
    "- spiral structure of galaxies"
   ]
  },
  {
   "cell_type": "markdown",
   "id": "0467ea3a",
   "metadata": {},
   "source": [
    "### Goal is to capture the non-linearity as accurately as possible"
   ]
  },
  {
   "cell_type": "markdown",
   "id": "e3b66f53",
   "metadata": {},
   "source": [
    "### N-boday Problem\n",
    "\n",
    "1) Calculating the net force on a given particle at a given time\n",
    "\n",
    "2) Determining the new position of the particle at a somewhat advanced time\n"
   ]
  },
  {
   "cell_type": "markdown",
   "id": "496e21ae",
   "metadata": {},
   "source": [
    "### Five different methods\n",
    "\n",
    "\n",
    "- Runge-Kutta integration: standard\n",
    "\n",
    "- Bulirsch-Stoer: highly accurate but limited to a few bodies\n",
    "  - Richardson extrapolation\n",
    "  - Richardson's deferred approach to the limit\n",
    "  \n",
    "- Symplectic map\n",
    "\n",
    "- Predictor-corrector method\n",
    "\n",
    "- Second-order leapfrog method: extremely large number of particles"
   ]
  },
  {
   "cell_type": "markdown",
   "id": "97f3ee13",
   "metadata": {},
   "source": [
    "### Softening\n",
    "\n",
    "All of those methods may run into difficulties when two particles pass within short distances of each other. To resolve this issue, we introduce \"softening.\"\n",
    "\n",
    "There is more accurate method called \"regularization.\""
   ]
  },
  {
   "cell_type": "markdown",
   "id": "9a2a1810",
   "metadata": {},
   "source": [
    "### Two examples of the approximate calculation of gravitational forces\n",
    "\n",
    "- Hierarchical tree method\n",
    "\n",
    "- Method of Fourier analysis"
   ]
  }
 ],
 "metadata": {
  "kernelspec": {
   "display_name": "Python 3 (ipykernel)",
   "language": "python",
   "name": "python3"
  },
  "language_info": {
   "codemirror_mode": {
    "name": "ipython",
    "version": 3
   },
   "file_extension": ".py",
   "mimetype": "text/x-python",
   "name": "python",
   "nbconvert_exporter": "python",
   "pygments_lexer": "ipython3",
   "version": "3.9.12"
  }
 },
 "nbformat": 4,
 "nbformat_minor": 5
}
