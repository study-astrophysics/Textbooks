{
 "cells": [
  {
   "cell_type": "markdown",
   "id": "f8c36cee",
   "metadata": {},
   "source": [
    "# Numerical Methods in Astrophysics: An Introduction"
   ]
  },
  {
   "cell_type": "markdown",
   "id": "752a9ea2",
   "metadata": {},
   "source": [
    "# Chapter 3. N-Body Particle Methods"
   ]
  },
  {
   "cell_type": "markdown",
   "id": "9a681467",
   "metadata": {},
   "source": [
    "## 3.2 Euler and Runge-Kutta Methods"
   ]
  },
  {
   "cell_type": "markdown",
   "id": "bc248a02",
   "metadata": {},
   "source": [
    "Need to solve the equation.\n",
    "\n",
    "$$ \\large \\frac{d^2 \\vec{x}_i}{d t^2} \\ = \\ \\sum^N_{j=1, j \\neq i} \\frac{G m_j (\\vec{x}_i - \\vec{x}_j)}{| \\vec{x}_i - \\vec{x}_j |^3} $$"
   ]
  },
  {
   "cell_type": "markdown",
   "id": "7fdbbabf",
   "metadata": {},
   "source": [
    "Dispense with second derivatives by recasting the N second-order equations as a set of 2N coupled first-order equations.\n",
    "\n",
    "---\n",
    "### Ordinary second-order differential equation\n",
    "\n",
    "\n",
    "$$ \\large A(x,t) \\frac{d^2 x}{d t^2} \\ + \\ B(x,t) \\frac{d x}{d t} \\ + \\ C(x,t) \\ = \\ 0 $$\n",
    "\n",
    "\n",
    "### Coupled first-order differential equation\n",
    "\n",
    "\n",
    "$$ \\large \\frac{dx}{dt} \\ = \\ v(t) $$\n",
    "\n",
    "$$ $$\n",
    "\n",
    "$$ \\large \\frac{dv}{dt} \\ = \\ - \\frac{B(x,t)}{A(x,t)} v(t) - \\frac{C(x,t)}{A(x,t)} $$\n",
    "\n",
    "---"
   ]
  },
  {
   "cell_type": "markdown",
   "id": "2e2889c8",
   "metadata": {},
   "source": [
    "In this manner, we can get\n",
    "\n",
    "\n",
    "$$ \\large \\frac{d\\vec{x}_i}{dt} \\ = \\ \\vec{v}_i $$\n",
    "\n",
    "$$ $$\n",
    "\n",
    "$$ \\large \\frac{d \\vec{v}_i}{dt} \\ = \\ - \\sum^{N}_{j=1, j\\ne i} \\frac{G m_j (\\vec{x}_i - \\vec{x}_j)}{|\\vec{x}_i - \\vec{x}_j|^3} $$\n",
    "\n",
    "\n"
   ]
  },
  {
   "cell_type": "markdown",
   "id": "e0c2620d",
   "metadata": {},
   "source": [
    "### Six-dimensional phase-space coordinate of particle $i$\n",
    "\n",
    "$$ \\large \\vec{w}_i \\equiv [\\vec{x}_i, \\vec{v}_i] \\equiv (w_{i1}, w_{i2}, w_{i3}, w_{i4}, w_{i5}, w_{i6}) $$\n",
    "\n",
    "\n",
    "Thus, the entire N-body system becomes 6N-dimentional vector\n",
    "\n",
    "\n",
    "$$ \\large \\vec{W} \\equiv [\\vec{w}_1, \\cdots, \\vec{w}_N] $$\n",
    "\n",
    "- components of $\\vec{W}$, $\\vec{w}_l \\text{ where } l = 1, \\cdots, 6N$\n",
    "    - example: x-component of the velocity of the j=3 particle\n",
    "        - $w_{16}: 6 + 6 + 3 + 1$\n",
    "            - First three: positions\n",
    "            - Second three: velocities"
   ]
  },
  {
   "cell_type": "markdown",
   "id": "9d05d01c",
   "metadata": {},
   "source": [
    "### evolution of the system\n",
    "\n",
    "\n",
    "$$ \\large \\frac{dw_l}{dt} = g_l (\\vec{w}) $$\n",
    "\n",
    "where\n",
    "\n",
    "\n",
    "- 6N functions $g_l$ are given by the coupled first-order equations"
   ]
  },
  {
   "cell_type": "markdown",
   "id": "9987e342",
   "metadata": {},
   "source": [
    "### simplest solution algorithm for the gravitational N-body problem\n",
    "\n",
    "By constructing a basic finite difference representation of the differential equations over the interval $h \\equiv \\Delta t \\equiv t^{n+1} - t^n$\n",
    "\n",
    "\n",
    "$$ \\large w^{n+1}_l = w^n_l + h g_l(w^n_1, w^n_2, \\cdots, w^n_{6n}) = w^n_1 + h g_l(\\vec{w}^n) $$\n",
    "\n",
    "\n",
    "when you repeat it, that's the "
   ]
  },
  {
   "cell_type": "markdown",
   "id": "031e755d",
   "metadata": {},
   "source": [
    "## Euler's method (simple)\n",
    "\n",
    "\n",
    "\n",
    "### N-body proble\n",
    "\n",
    "- Conservation of energy\n",
    "\n",
    "$$ \\large E_\\text{tot} = \\frac{1}{2} m_\\text{tot} v^2_\\text{com} - \\frac{1}{2} \\sum^N_{i=1} \\sum^N_{j=1, j \\neq i} \\frac{G m_i m_j}{r_{ij}} + \\sum^N_{i=1} \\frac{1}{2} m_i v^2_i $$\n",
    "\n",
    "\n",
    "- Conservation of angular momentum\n",
    "\n",
    "$$ \\large \\vec{L}_\\text{tot} = \\sum^N_{i=1} m_i (\\vec{x}_i \\times \\vec{v}_i)  $$\n",
    "\n",
    "\n",
    "\n",
    "where\n",
    "\n",
    "\n",
    "- $v_\\text{com}$: velocity of the center of mass of the system\n",
    "\n",
    "\n",
    "- $r_{ij}$: distance between $i$ and $j$\n",
    "\n",
    "\n",
    "- $m_\\text{tot} =\\sum^N_{i=1} m_i$"
   ]
  },
  {
   "cell_type": "markdown",
   "id": "b4901a48",
   "metadata": {},
   "source": [
    "The degree to which these quantities are conserved in a numerical solution scheme,\n",
    "\n",
    "\n",
    "$$ \\large \\Delta E = \\frac{E^\\text{final} - E^\\text{initial}}{E^\\text{initial}} $$\n",
    "\n",
    "\n",
    "\n",
    "is a measure of the fidelity to which the solution is being obtained.\n",
    "\n",
    "\n",
    "\n",
    "To study on the right track, one needs to monitor accuracy by evaluating the fractional change in the solution obtained with varying step size $h$."
   ]
  },
  {
   "cell_type": "markdown",
   "id": "e991184b",
   "metadata": {},
   "source": [
    "### Figure 3.1\n",
    "\n",
    "\n",
    "![alt text](figures/fig3-1.png 'Fig 3.1')\n",
    "\n",
    "The fractional change in energy of an Earth-mass planet started in a circular 1 AU orbit about a star of 1 $M_\\odot$\n",
    "\n",
    "\n",
    "The benefit obtained from using ever-smaller time step intervals saturated at a timestep $\\Delta t = 1 \\times 10^{-5}$\n",
    "- due to the computer's ability to represent numbers to only a finite number of decimal places."
   ]
  },
  {
   "cell_type": "markdown",
   "id": "af95bc9d",
   "metadata": {},
   "source": [
    "To trace the oppressive error buildup produced by Euler's method,\n",
    "\n",
    "- exact value of the advanced dependent variable $w^{n+1}_l$ (Taylor expansion series)\n",
    "\n",
    "\n",
    "$$ \\large w^{n+1}_l = \\underbrace{w^n_l + \\frac{h}{1!} \\frac{d w_l}{dt} }_{\\text{Euler's formula: first-order accuracy}} + \\underbrace{ \\frac{h^2}{2!} \\frac{d^2 w_l}{dt^2} + \\cdots + \\frac{h^n}{n!} \\frac{d^n w_l}{dt^n} + \\cdots }_{\\text{total error}} $$"
   ]
  },
  {
   "cell_type": "markdown",
   "id": "4478c176",
   "metadata": {},
   "source": [
    "The fundamental unworkability of Euler's formula stems from its asymmetry; the increment $h dw_l/dt \\equiv h g_l (t^n, \\vec{w}^n)$ to the dependent variable is based on the value of $\\vec{w}$ evaluated at the beginning of the interval $h$."
   ]
  },
  {
   "cell_type": "markdown",
   "id": "522b0543",
   "metadata": {},
   "source": [
    "The key to improving Euler's method is the realization that the derivative function $g_l$, in general, can be computed for any trivial values of $(t, \\vec{w})$, where here, we include the implicit time dependence in $g_l$\n",
    "\n",
    "\n",
    "- topography of $g_l (t,\\vec{w})$\n",
    "\n",
    "\n",
    "- refined estimate for the slope $\\bar{g_l (t, \\vec{w})}$"
   ]
  },
  {
   "cell_type": "markdown",
   "id": "0eec076b",
   "metadata": {},
   "source": [
    "### Runge-Kutta Method!"
   ]
  },
  {
   "cell_type": "markdown",
   "id": "85700eac",
   "metadata": {},
   "source": []
  }
 ],
 "metadata": {
  "kernelspec": {
   "display_name": "Python 3 (ipykernel)",
   "language": "python",
   "name": "python3"
  },
  "language_info": {
   "codemirror_mode": {
    "name": "ipython",
    "version": 3
   },
   "file_extension": ".py",
   "mimetype": "text/x-python",
   "name": "python",
   "nbconvert_exporter": "python",
   "pygments_lexer": "ipython3",
   "version": "3.9.15"
  }
 },
 "nbformat": 4,
 "nbformat_minor": 5
}
