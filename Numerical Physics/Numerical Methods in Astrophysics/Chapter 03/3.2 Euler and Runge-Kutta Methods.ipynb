{
 "cells": [
  {
   "cell_type": "markdown",
   "id": "f8c36cee",
   "metadata": {},
   "source": [
    "# Numerical Methods in Astrophysics: An Introduction"
   ]
  },
  {
   "cell_type": "markdown",
   "id": "752a9ea2",
   "metadata": {},
   "source": [
    "# Chapter 3. N-Body Particle Methods"
   ]
  },
  {
   "cell_type": "markdown",
   "id": "9a681467",
   "metadata": {},
   "source": [
    "## 3.2 Euler and Runge-Kutta Methods"
   ]
  },
  {
   "cell_type": "markdown",
   "id": "bc248a02",
   "metadata": {},
   "source": [
    "Need to solve the equation.\n",
    "\n",
    "$$ \\large \\frac{d^2 \\vec{x}_i}{d t^2} \\ = \\ \\sum^N_{j=1, j \\neq i} \\frac{G m_j (\\vec{x}_i - \\vec{x}_j)}{| \\vec{x}_i - \\vec{x}_j |^3} $$"
   ]
  },
  {
   "cell_type": "markdown",
   "id": "7fdbbabf",
   "metadata": {},
   "source": [
    "Dispense with second derivatives by recasting the N second-order equations as a set of 2N coupled first-order equations.\n",
    "\n",
    "\n",
    "### Ordinary second-order differential equation\n",
    "\n",
    "\n",
    "$$ \\large A(x,t) \\frac{d^2 x}{d t^2} \\ + \\ B(x,t) \\frac{d x}{d t} \\ + \\ C(x,t) \\ = \\ 0 $$\n",
    "\n",
    "\n",
    "### Coupled first-order differential equation\n",
    "\n",
    "\n",
    "$$ \\large \\frac{dx}{dt} \\ = \\ v(t) $$\n",
    "\n",
    "$$ $$\n",
    "\n",
    "$$ \\large \\frac{dv}{dt} \\ = \\ - \\frac{B(x,t)}{A(x,t)} v(t) - \\frac{C(x,t)}{A(x,t)} $$"
   ]
  },
  {
   "cell_type": "markdown",
   "id": "2e2889c8",
   "metadata": {},
   "source": [
    "In this manner, we can get\n",
    "\n",
    "\n",
    "$$ \\large \\frac{d\\vec{x}_i}{dt} \\ = \\ \\vec{v}_i $$\n",
    "\n",
    "$$ $$\n",
    "\n",
    "$$ \\large \\frac{d \\vec{v}_i}{dt} \\ = \\ - \\sum^{N}_{j=1, j\\ne i} \\frac{G m_j (\\vec{x}_i - \\vec{x}_j)}{|\\vec{x}_i - \\vec{x}_j|^3} $$\n",
    "\n",
    "\n"
   ]
  },
  {
   "cell_type": "markdown",
   "id": "e0c2620d",
   "metadata": {},
   "source": [
    "### Six-dimensional phase-space coordinate of particle $i$\n",
    "\n",
    "$$ \\large \\vec{w}_i \\equiv [\\vec{x}_i, \\vec{v}_i] \\equiv (w_{i1}, w_{i2}, w_{i3}, w_{i4}, w_{i5}, w_{i6}) $$\n",
    "\n",
    "\n",
    "Thus, the entire N-body system becomes 6N-dimentional vector\n",
    "\n",
    "\n",
    "$$ \\large \\vec{W} \\equiv [\\vec{w}_1, \\cdots, \\vec{w}_N] $$\n",
    "\n",
    "- components of $\\vec{W}$, $\\vec{w}_l \\text{ where } l = 1, \\cdots, 6N$\n",
    "    - example: x-component of the velocity of the j=3 particle\n",
    "        - $w_{16}: 6 + 6 + 3 + 1$"
   ]
  },
  {
   "cell_type": "markdown",
   "id": "9d05d01c",
   "metadata": {},
   "source": [
    "### evolution of the system\n",
    "\n",
    "\n",
    "$$ \\large \\frac{dw_l}{t} = g_l (\\vec{w}) $$\n",
    "\n",
    "where\n",
    "\n",
    "\n",
    "- 6N functions $g_l$ are given by the coupled first-order equations"
   ]
  },
  {
   "cell_type": "markdown",
   "id": "9987e342",
   "metadata": {},
   "source": [
    "### simplest solution algorithm for the gravitational N-body problem\n",
    "\n",
    "By constructing a basic finite difference representation of the differential equations over the interval $h \\equiv \\Delta t \\equiv t^{n+1} - t^n$\n",
    "\n",
    "\n",
    "$$ \\large w^{n+1}_l = w^n_l + h g_l(w^n_1, w^n_2, \\cdots, w^n_{6n} = w^n_1 + h g_l(\\vec{w}^n) $$\n",
    "\n",
    "\n",
    "when you repeat it, that's the "
   ]
  },
  {
   "cell_type": "markdown",
   "id": "031e755d",
   "metadata": {},
   "source": [
    "## Euler's method (simple)\n",
    "\n",
    "\n",
    "\n",
    "### N-body proble\n",
    "\n",
    "- Conservation of \n",
    "    - energy\n",
    "    \n",
    "    \n",
    "    \n",
    "    \n",
    "    - angular momentum"
   ]
  },
  {
   "cell_type": "code",
   "execution_count": null,
   "id": "40702266",
   "metadata": {},
   "outputs": [],
   "source": []
  }
 ],
 "metadata": {
  "kernelspec": {
   "display_name": "Python 3 (ipykernel)",
   "language": "python",
   "name": "python3"
  },
  "language_info": {
   "codemirror_mode": {
    "name": "ipython",
    "version": 3
   },
   "file_extension": ".py",
   "mimetype": "text/x-python",
   "name": "python",
   "nbconvert_exporter": "python",
   "pygments_lexer": "ipython3",
   "version": "3.9.12"
  }
 },
 "nbformat": 4,
 "nbformat_minor": 5
}
