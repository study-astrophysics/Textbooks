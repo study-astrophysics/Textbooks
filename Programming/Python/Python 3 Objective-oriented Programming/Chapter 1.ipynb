{
 "cells": [
  {
   "cell_type": "markdown",
   "id": "d8dee1b3",
   "metadata": {},
   "source": [
    "# Chapter 1. Object-oriented Design"
   ]
  },
  {
   "cell_type": "markdown",
   "id": "bdb68087",
   "metadata": {},
   "source": [
    "## Introducing object-oriented"
   ]
  },
  {
   "cell_type": "markdown",
   "id": "557a77a6",
   "metadata": {},
   "source": [
    "An **Object** is a collection of **data** and associated **behaviors**."
   ]
  },
  {
   "cell_type": "markdown",
   "id": "07dd4e10",
   "metadata": {},
   "source": [
    "**Objective-oriented** means functionally directed towards modeling objects."
   ]
  },
  {
   "cell_type": "markdown",
   "id": "023bc6c8",
   "metadata": {},
   "source": [
    "**Object-oriented anaysis (OOA)** is the process of looking at a problem, system, or task (that somebody wants to turn into an application) and identifying the objects and interactions between those objects."
   ]
  },
  {
   "cell_type": "markdown",
   "id": "6e4ee1a9",
   "metadata": {},
   "source": [
    "**Object-oriented design (OOD)** is the process of converting requirements into an implementation specification."
   ]
  },
  {
   "cell_type": "markdown",
   "id": "fd4f2557",
   "metadata": {},
   "source": [
    "**Object-oriented programming (OOP)** is the process of converting the design into a working program."
   ]
  },
  {
   "cell_type": "markdown",
   "id": "0699a23a",
   "metadata": {},
   "source": [
    "## Objects and classes"
   ]
  },
  {
   "cell_type": "markdown",
   "id": "0eaebb83",
   "metadata": {},
   "source": [
    "In object-oriented modeling, the term used for kind of object is **class**.\n",
    "\n",
    "Class describes objects."
   ]
  },
  {
   "cell_type": "markdown",
   "id": "cd7b0539",
   "metadata": {},
   "source": [
    "The relationship between the classes of objects can be described using a **Unified Modeling Language (UML)** class diagram."
   ]
  },
  {
   "cell_type": "code",
   "execution_count": null,
   "id": "7bfb602c",
   "metadata": {},
   "outputs": [],
   "source": []
  },
  {
   "cell_type": "code",
   "execution_count": 2,
   "id": "81b5ecf9",
   "metadata": {},
   "outputs": [
    {
     "ename": "SyntaxError",
     "evalue": "invalid syntax (3865126664.py, line 3)",
     "output_type": "error",
     "traceback": [
      "\u001b[0;36m  File \u001b[0;32m\"/var/folders/kl/cl2v37tj7337kvyxng_b4gg00000gn/T/ipykernel_16749/3865126664.py\"\u001b[0;36m, line \u001b[0;32m3\u001b[0m\n\u001b[0;31m    program get_mpirun_version\u001b[0m\n\u001b[0m            ^\u001b[0m\n\u001b[0;31mSyntaxError\u001b[0m\u001b[0;31m:\u001b[0m invalid syntax\n"
     ]
    }
   ],
   "source": [
    "%num_images: 1\n",
    "%fcflags: -ffree-line-length-none\n",
    "program get_mpirun_version\n",
    "    implicit none\n",
    "    character(len=90000) :: str_buff\n",
    "    call execute_command_line (\"caf --version; caf --wraps; /usr/bin/gfortran --version; &\n",
    "        &mpirun --version\", wait=.true., cmdmsg=str_buff)\n",
    "    print*, trim(str_buff)\n",
    "end program"
   ]
  },
  {
   "cell_type": "code",
   "execution_count": null,
   "id": "bb127e8e",
   "metadata": {},
   "outputs": [],
   "source": []
  }
 ],
 "metadata": {
  "kernelspec": {
   "display_name": "Python 3 (ipykernel)",
   "language": "python",
   "name": "python3"
  },
  "language_info": {
   "codemirror_mode": {
    "name": "ipython",
    "version": 3
   },
   "file_extension": ".py",
   "mimetype": "text/x-python",
   "name": "python",
   "nbconvert_exporter": "python",
   "pygments_lexer": "ipython3",
   "version": "3.8.2"
  }
 },
 "nbformat": 4,
 "nbformat_minor": 5
}
