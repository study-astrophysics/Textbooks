{
 "cells": [
  {
   "cell_type": "markdown",
   "id": "98d1131c",
   "metadata": {},
   "source": [
    "# Griffiths, Introduction to Electrodynamics (4th)"
   ]
  },
  {
   "cell_type": "markdown",
   "id": "bb0890c0",
   "metadata": {},
   "source": [
    "# Chapter 01. Vector Analysis"
   ]
  },
  {
   "cell_type": "markdown",
   "id": "6f876bb1",
   "metadata": {},
   "source": [
    "# 1.1 Vector Algebra"
   ]
  },
  {
   "cell_type": "markdown",
   "id": "4f56afab",
   "metadata": {},
   "source": [
    "## 1.1.1 Vector Operations"
   ]
  },
  {
   "cell_type": "markdown",
   "id": "80076d7d",
   "metadata": {},
   "source": [
    "### Vectors: have direction as well as magnitude (length), but not location\n",
    "\n",
    " - Velocity, acceleration, force, momentum, etc."
   ]
  },
  {
   "cell_type": "markdown",
   "id": "87e0bdce",
   "metadata": {},
   "source": [
    "### Scalars: have magnitude, but no direction\n",
    "\n",
    " - Mass, charge, density, temperature, etc."
   ]
  },
  {
   "cell_type": "markdown",
   "id": "a79b468b",
   "metadata": {},
   "source": [
    "### Vector Operators"
   ]
  },
  {
   "cell_type": "markdown",
   "id": "214474cd",
   "metadata": {},
   "source": [
    "#### 1. Addition of two vectors\n",
    "\n",
    "$$ \\large \\vec{A} + \\vec{B} = \\vec{B} + \\vec{A} \\quad \\text{: commutative} $$\n",
    "\n",
    "$$ \\large (\\vec{A} + \\vec{B}) + \\vec{C} = \\vec{A} + (\\vec{B} + \\vec{C}) \\quad \\text{: associative} $$\n",
    "\n",
    "\n",
    "#### cf) Subtraction: add its opposite\n",
    "\n",
    "$$ \\large \\vec{A} - \\vec{B} = \\vec{A} + (- \\vec{B}) $$"
   ]
  },
  {
   "cell_type": "markdown",
   "id": "2b36a5f0",
   "metadata": {},
   "source": [
    "#### 2. Mutiplication by a scalar\n",
    "\n",
    "$$ \\large a (\\vec{A} + \\vec{B}) = a\\vec{A} + a\\vec{B} \\quad \\text{: distributive} $$"
   ]
  },
  {
   "cell_type": "markdown",
   "id": "45fac384",
   "metadata": {},
   "source": [
    "#### 3. Dot product of two vectors\n",
    "\n",
    "$$ \\large \\vec{A} \\cdot \\vec{B} \\equiv AB \\cos \\theta $$\n",
    "\n",
    "where\n",
    "\n",
    "$ \\theta$: angle the two vector form when placed tail-to-tail"
   ]
  },
  {
   "cell_type": "code",
   "execution_count": null,
   "id": "3992ad2c",
   "metadata": {},
   "outputs": [],
   "source": []
  }
 ],
 "metadata": {
  "kernelspec": {
   "display_name": "Python 3 (ipykernel)",
   "language": "python",
   "name": "python3"
  },
  "language_info": {
   "codemirror_mode": {
    "name": "ipython",
    "version": 3
   },
   "file_extension": ".py",
   "mimetype": "text/x-python",
   "name": "python",
   "nbconvert_exporter": "python",
   "pygments_lexer": "ipython3",
   "version": "3.8.2"
  }
 },
 "nbformat": 4,
 "nbformat_minor": 5
}
