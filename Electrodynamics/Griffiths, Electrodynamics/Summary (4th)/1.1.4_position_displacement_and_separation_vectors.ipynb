{
 "cells": [
  {
   "cell_type": "markdown",
   "id": "98d1131c",
   "metadata": {},
   "source": [
    "# [Griffiths, Introduction to Electrodynamics (4th)](https://study-astrophysics.com/griffiths-electro/)"
   ]
  },
  {
   "cell_type": "markdown",
   "id": "419612b1",
   "metadata": {},
   "source": [
    "---"
   ]
  },
  {
   "cell_type": "markdown",
   "id": "bb0890c0",
   "metadata": {},
   "source": [
    "# Chapter 01. Vector Analysis"
   ]
  },
  {
   "cell_type": "markdown",
   "id": "6f876bb1",
   "metadata": {},
   "source": [
    "# 1.1 Vector Algebra"
   ]
  },
  {
   "cell_type": "markdown",
   "id": "4f56afab",
   "metadata": {},
   "source": [
    "## [1.1.4 Position, Displacement, and Separation Vectors](https://study-astrophysics.com/griffiths-01-01-04/)"
   ]
  },
  {
   "cell_type": "markdown",
   "id": "2d640688",
   "metadata": {},
   "source": [
    "The location of a point in three dimensions can be described by listing its **Cartesian coordinates $(x,y,z)$**.\n",
    "\n",
    "\n",
    "### 1. Position vector\n",
    "\n",
    "$$ \\large \\vec{r} \\equiv x\\hat{x} + y\\hat{y} + z\\hat{z} $$\n",
    "\n",
    "- vector to a point from the origin\n",
    "\n",
    "\n",
    "- Magnitude: distance from the origin\n",
    "\n",
    "$$ \\large r = \\sqrt{x^2 + y^2 + z^2} $$\n",
    "\n",
    "\n",
    "- Unit vector pointing radially outward\n",
    "\n",
    "\n",
    "$$ \\large \\hat{r} = \\frac{\\vec{r}}{r} = \\frac{x\\hat{x} + y\\hat{y} + z\\hat{z}}{\\sqrt{x^2 + y^2 + z^2}} $$\n",
    "\n"
   ]
  },
  {
   "cell_type": "markdown",
   "id": "9ba0930c",
   "metadata": {},
   "source": [
    "### 2. (Infinitesimal) Displacement vector\n",
    "\n",
    "\n",
    "$$ \\large d\\vec{l} = dx\\hat{x} + dy\\hat{y} + dz\\hat{z} $$"
   ]
  },
  {
   "cell_type": "markdown",
   "id": "2f1018f0",
   "metadata": {},
   "source": [
    "In electrodynamics, one frequently encounters problems involving two points--typically, a **source point**, $\\vec{r}'$, where an electric charge is located, and a **field point**, $\\vec{r}$, at which you are calculating the electric or magnetic field.\n",
    "\n",
    "\n",
    "### 3. Separation vector\n",
    "\n",
    "\n",
    "$$ \\large \\vec{\\mathscr{r}} \\equiv \\vec{r} - \\vec{r}' = (x-x')\\hat{x} + (y-y')\\hat{y} + (z-z')\\hat{z}$$\n",
    "\n",
    "- vector from the source point to the field point\n",
    "\n",
    "\n",
    "- Magnitude\n",
    "\n",
    "$$ \\large \\mathscr{r} = |\\vec{r} - \\vec{r}'| = \\sqrt{(x-x')^2 + (y-y')^2 + (z-z')^2}$$\n",
    "\n",
    "\n",
    "- Unit vector\n",
    "\n",
    "\n",
    "$$ \\large \\hat{\\mathscr{r}} = \\frac{\\vec{r} - \\vec{r}'}{|\\vec{r} - \\vec{r}'|} = \\frac{(x-x')\\hat{x} + (y-y')\\hat{y} + (z-z')\\hat{z}}{\\sqrt{(x-x')^2 + (y-y')^2 + (z-z')^2}} $$"
   ]
  },
  {
   "cell_type": "markdown",
   "id": "9b4e821c",
   "metadata": {},
   "source": [
    "---"
   ]
  },
  {
   "cell_type": "markdown",
   "id": "cd32485b",
   "metadata": {},
   "source": [
    "## Problems\n",
    "\n",
    "\n",
    "### [Problem 1.7](https://study-astrophysics.com/griffiths-01-07/)"
   ]
  }
 ],
 "metadata": {
  "kernelspec": {
   "display_name": "Python 3 (ipykernel)",
   "language": "python",
   "name": "python3"
  },
  "language_info": {
   "codemirror_mode": {
    "name": "ipython",
    "version": 3
   },
   "file_extension": ".py",
   "mimetype": "text/x-python",
   "name": "python",
   "nbconvert_exporter": "python",
   "pygments_lexer": "ipython3",
   "version": "3.8.13"
  }
 },
 "nbformat": 4,
 "nbformat_minor": 5
}
