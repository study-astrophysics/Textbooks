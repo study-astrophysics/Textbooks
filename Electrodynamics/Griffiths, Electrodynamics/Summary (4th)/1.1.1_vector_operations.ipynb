{
 "cells": [
  {
   "cell_type": "markdown",
   "id": "98d1131c",
   "metadata": {},
   "source": [
    "# Griffiths, Introduction to Electrodynamics (4th) Summary"
   ]
  },
  {
   "cell_type": "markdown",
   "id": "fda7d1ae",
   "metadata": {},
   "source": [
    "---"
   ]
  },
  {
   "cell_type": "markdown",
   "id": "bb0890c0",
   "metadata": {},
   "source": [
    "# Chapter 01. Vector Analysis"
   ]
  },
  {
   "cell_type": "markdown",
   "id": "6f876bb1",
   "metadata": {},
   "source": [
    "# 1.1 Vector Algebra"
   ]
  },
  {
   "cell_type": "markdown",
   "id": "4f56afab",
   "metadata": {},
   "source": [
    "## 1.1.1 Vector Operations"
   ]
  },
  {
   "cell_type": "markdown",
   "id": "80076d7d",
   "metadata": {},
   "source": [
    "### Vectors: have direction as well as magnitude (length), but not location\n",
    "\n",
    " - Velocity, acceleration, force, momentum, etc."
   ]
  },
  {
   "cell_type": "markdown",
   "id": "87e0bdce",
   "metadata": {},
   "source": [
    "### Scalars: have magnitude, but no direction\n",
    "\n",
    " - Mass, charge, density, temperature, etc."
   ]
  },
  {
   "cell_type": "markdown",
   "id": "a79b468b",
   "metadata": {},
   "source": [
    "### Vector Operators"
   ]
  },
  {
   "cell_type": "markdown",
   "id": "214474cd",
   "metadata": {},
   "source": [
    "#### 1. Addition of two vectors\n",
    "\n",
    "$$ \\large \\vec{A} + \\vec{B} = \\vec{B} + \\vec{A} \\quad \\text{: commutative} $$\n",
    "\n",
    "$$ \\large (\\vec{A} + \\vec{B}) + \\vec{C} = \\vec{A} + (\\vec{B} + \\vec{C}) \\quad \\text{: associative} $$"
   ]
  },
  {
   "cell_type": "markdown",
   "id": "2186c873",
   "metadata": {},
   "source": [
    " - Subtraction: add its opposite\n",
    "\n",
    "$$ \\large \\vec{A} - \\vec{B} = \\vec{A} + (- \\vec{B}) $$"
   ]
  },
  {
   "cell_type": "markdown",
   "id": "2b36a5f0",
   "metadata": {},
   "source": [
    "#### 2. Mutiplication by a scalar\n",
    "\n",
    "$$ \\large a (\\vec{A} + \\vec{B}) = a\\vec{A} + a\\vec{B} \\quad \\text{: distributive} $$"
   ]
  },
  {
   "cell_type": "markdown",
   "id": "45fac384",
   "metadata": {},
   "source": [
    "#### 3. Dot product of two vectors\n",
    "\n",
    "$$ \\large \\vec{A} \\cdot \\vec{B} \\equiv AB \\cos \\theta $$\n",
    "\n",
    "where\n",
    "\n",
    "$ \\theta$: angle the two vector form when placed tail-to-tail\n",
    "\n",
    " - $\\vec{A} \\cdot \\vec{B}$ is a scalar, not a vector."
   ]
  },
  {
   "cell_type": "markdown",
   "id": "15868677",
   "metadata": {},
   "source": [
    "$$ \\large \\vec{A} \\cdot \\vec{B} = \\vec{B} \\cdot \\vec{A} \\quad \\text{: commutative} $$\n",
    "\n",
    "$$ \\large \\vec{A} \\cdot (\\vec{B} + \\vec{C}) = \\vec{A} \\cdot \\vec{B} + \\vec{A} \\cdot \\vec{C} \\quad \\text{: distributive} $$"
   ]
  },
  {
   "cell_type": "markdown",
   "id": "3f7ea554",
   "metadata": {},
   "source": [
    " - #### Geometrical interpretaion\n",
    " \n",
    " The product of A times the projection of $\\vec{B}$ along $\\vec{A}$\n",
    " \n",
    " (Or, The product of B times the projection of $\\vec{A}$ along $\\vec{B}$)\n",
    " \n",
    " \n",
    " - For any vector $\\vec{A}$, $\\vec{A} \\cdot \\vec{A} = A^2$\n",
    " \n",
    " \n",
    " - If $\\vec{A}$ and $\\vec{B}$ are perpendicular, $\\vec{A} \\cdot \\vec{B} = 0$\n"
   ]
  },
  {
   "cell_type": "markdown",
   "id": "cc8be61c",
   "metadata": {},
   "source": [
    "---"
   ]
  },
  {
   "cell_type": "markdown",
   "id": "5170fe3e",
   "metadata": {},
   "source": [
    "### Example 1.1 Law of Cosines"
   ]
  },
  {
   "cell_type": "markdown",
   "id": "feee7284",
   "metadata": {},
   "source": [
    "If vectors $\\vec{A}$ and $\\vec{B}$ have the same origin but different direction, and let the vector $\\vec{C} \\equiv \\vec{A} - \\vec{B}$, we can prove the law of consines. "
   ]
  },
  {
   "cell_type": "markdown",
   "id": "1fd326ab",
   "metadata": {},
   "source": [
    "$$ \\large \\begin{split}\n",
    "\\vec{C} \\cdot \\vec{C} = (\\vec{A} - \\vec{B}) \\cdot (\\vec{A} - \\vec{B}) & = \\vec{A} \\cdot \\vec{A} - \\vec{A} \\cdot \\vec{B} - \\vec{B} \\cdot \\vec{A} + \\vec{B} \\cdot \\vec{B} \\\\\n",
    "& = A^2 - 2 \\vec{A} \\cdot \\vec{B} + B^2 \\\\\n",
    "& = A^2 + B^2 - 2 AB \\cos\\theta\n",
    "\\end{split}\n",
    "$$"
   ]
  },
  {
   "cell_type": "markdown",
   "id": "25b5ab66",
   "metadata": {},
   "source": [
    "Thus,\n",
    "\n",
    "$$ \\large C^2 = A^2 + B^2 - 2 AB \\cos\\theta $$"
   ]
  },
  {
   "cell_type": "markdown",
   "id": "57035883",
   "metadata": {},
   "source": [
    "---"
   ]
  },
  {
   "cell_type": "markdown",
   "id": "67432900",
   "metadata": {},
   "source": [
    "#### 4. Cross product of two vectors\n",
    "\n",
    "\n",
    "$$ \\large \\vec{A} \\times \\vec{B} \\equiv AB \\sin\\theta \\ \\hat{n} $$\n",
    "\n",
    "\n",
    "where\n",
    "\n",
    "\n",
    "- $\\hat{n}$: unit vector\n",
    "    - Magnitude: 1 (unit)\n",
    "    - Direction: (perpendicular to the plane of $\\vec{A}$ and $\\vec{B}$) + (right-hand rule)"
   ]
  },
  {
   "cell_type": "markdown",
   "id": "4fdd980d",
   "metadata": {},
   "source": [
    "$$ \\large \\vec{A} \\times (\\vec{B} + \\vec{C}) = (\\vec{A} \\times \\vec{B}) + (\\vec{A} \\times \\vec{C}) \\quad \\text{: distributive} $$\n",
    "\n",
    "$$ \\large (\\vec{A} \\times \\vec{B}) = - \\ (\\vec{B} \\times \\vec{A}) \\quad \\text{: commutative} $$\n",
    "\n"
   ]
  },
  {
   "cell_type": "markdown",
   "id": "e691c80d",
   "metadata": {},
   "source": [
    "- #### Geometrical interpretaion\n",
    " \n",
    "    - $|\\vec{A}\\times\\vec{B}|$: area of the parallelogram generated by $\\vec{A}$ and $\\vec{B}$\n",
    " \n",
    "For any vector $\\vec{A}$, \n",
    "\n",
    "$$ \\large \\vec{A}\\times\\vec{A} = \\vec{0}$$\n",
    "\n",
    "\n",
    "where\n",
    "\n",
    "\n",
    "- $\\vec{0}$: zero vector\n"
   ]
  },
  {
   "cell_type": "markdown",
   "id": "42813bc5",
   "metadata": {},
   "source": [
    "---"
   ]
  },
  {
   "cell_type": "markdown",
   "id": "db2dd12a",
   "metadata": {},
   "source": [
    "## Problems\n",
    "\n",
    "\n",
    "### [Problem 1.1](https://study-astrophysics.com/griffiths-01-01/)\n",
    "\n",
    "\n",
    "### [Problem 1.2](https://study-astrophysics.com/griffiths-01-02/)"
   ]
  }
 ],
 "metadata": {
  "kernelspec": {
   "display_name": "Python 3 (ipykernel)",
   "language": "python",
   "name": "python3"
  },
  "language_info": {
   "codemirror_mode": {
    "name": "ipython",
    "version": 3
   },
   "file_extension": ".py",
   "mimetype": "text/x-python",
   "name": "python",
   "nbconvert_exporter": "python",
   "pygments_lexer": "ipython3",
   "version": "3.9.7"
  }
 },
 "nbformat": 4,
 "nbformat_minor": 5
}
