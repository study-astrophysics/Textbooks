{
 "cells": [
  {
   "cell_type": "markdown",
   "id": "98d1131c",
   "metadata": {},
   "source": [
    "# [Griffiths, Introduction to Electrodynamics (4th)](https://study-astrophysics.com/griffiths-electro/)"
   ]
  },
  {
   "cell_type": "markdown",
   "id": "419612b1",
   "metadata": {},
   "source": [
    "---"
   ]
  },
  {
   "cell_type": "markdown",
   "id": "bb0890c0",
   "metadata": {},
   "source": [
    "# Chapter 01. Vector Analysis"
   ]
  },
  {
   "cell_type": "markdown",
   "id": "6f876bb1",
   "metadata": {},
   "source": [
    "# 1.1 Vector Algebra"
   ]
  },
  {
   "cell_type": "markdown",
   "id": "4f56afab",
   "metadata": {},
   "source": [
    "## [1.1.2 Vector Algebra: Component Form](https://study-astrophysics.com/griffiths-01-01-02/)"
   ]
  },
  {
   "cell_type": "markdown",
   "id": "a7b101c4",
   "metadata": {},
   "source": [
    "### Arbitrary vector $\\vec{A}$\n",
    "\n",
    "$$ \\large \\vec{A} \\ = \\ A_x \\hat{x} + A_y \\hat{y} + A_z \\hat{z} $$\n",
    "\n",
    "\n",
    "where\n",
    "\n",
    "\n",
    "$A_x$, $A_y$, and $A_z$, are the **components** of $\\vec{A}$.\n",
    "\n",
    "\n",
    "#### Geometrical interpretation: They are the projections of $\\vec{A}$ along the three coordinate axes.\n",
    "\n",
    "- $A_x = \\vec{A} \\cdot \\hat{x}$\n",
    "- $A_y = \\vec{A} \\cdot \\hat{y}$\n",
    "- $A_z = \\vec{A} \\cdot \\hat{z}$"
   ]
  },
  {
   "cell_type": "markdown",
   "id": "8ed7e04d",
   "metadata": {},
   "source": [
    "We can now reformulate four vector operations as a rule for manipulating components."
   ]
  },
  {
   "cell_type": "markdown",
   "id": "eb588808",
   "metadata": {},
   "source": [
    "### Vector Operations"
   ]
  },
  {
   "cell_type": "markdown",
   "id": "85e31e26",
   "metadata": {},
   "source": [
    "#### 1. To add vectors, add like components\n",
    "\n",
    "\n",
    "$$ \\large \\begin{split}\n",
    "\\vec{A} + \\vec{B} & = (A_x \\hat{x} + A_y \\hat{y} + A_z \\hat{z}) + (B_x \\hat{x} + B_y \\hat{y} + B_z \\hat{z}) \\\\\n",
    "& = (A_x + B_x)\\hat{x} + (A_y + B_y)\\hat{y} + (A_z + B_z)\\hat{z}\n",
    "\\end{split} $$"
   ]
  },
  {
   "cell_type": "markdown",
   "id": "361ec4e8",
   "metadata": {},
   "source": [
    "#### 2. To multiply by a scalar, multiply each component\n",
    "\n",
    "$$ \\large a\\vec{A} \\ = \\ (aA_x)\\hat{x} + (aA_y)\\hat{y} + (aA_z)\\hat{z} $$"
   ]
  },
  {
   "cell_type": "markdown",
   "id": "ec9605e7",
   "metadata": {},
   "source": [
    "#### 3. To calculate the dot product, multiply like components, and add\n",
    "\n",
    "\n",
    "$$ \\large \\begin{split}\n",
    "\\vec{A} \\cdot \\vec{B} & = (A_x \\hat{x} + A_y \\hat{y} + A_z \\hat{z}) \\cdot (B_x \\hat{x} + B_y \\hat{y} + B_z \\hat{z}) \\\\\n",
    "& = A_x B_x + A_y B_y + A_z B_z\n",
    "\\end{split} $$\n",
    "\n",
    "\n",
    "Since $\\hat{x}$, $\\hat{y}$, and $\\hat{z}$ are mutually perpendicular unit vectors.\n",
    "\n",
    "$$ \\large \\hat{x}\\cdot\\hat{x} = \\hat{y}\\cdot\\hat{y} = \\hat{z}\\cdot\\hat{z} = 1; \\quad \\hat{x}\\cdot\\hat{y} = \\hat{y}\\cdot\\hat{z} = \\hat{z}\\cdot\\hat{x} = 0$$"
   ]
  },
  {
   "cell_type": "markdown",
   "id": "812e1eb4",
   "metadata": {},
   "source": [
    "In particular, \n",
    "\n",
    "$$ \\large \\vec{A}\\cdot\\vec{A} = A^2_x + A^2_y + A^2_z $$\n",
    "\n",
    "\n",
    "So,\n",
    "\n",
    "$$ \\large A = \\sqrt{A^2_x + A^2_y + A^2_z} $$\n",
    "\n",
    "\n",
    "This is the three-dimensional generalization of the **Pythagorean theorem**."
   ]
  },
  {
   "cell_type": "markdown",
   "id": "6140cbbd",
   "metadata": {},
   "source": [
    "#### 4. To calculate the cross product, form the determinant whose first row is $\\hat{x}$, $\\hat{y}$, and $\\hat{z}$, whose second row is $\\vec{A}$ (in component form), and whose third row is $\\vec{B}$\n",
    "\n",
    "\n",
    "$$ \\large \\begin{split}\n",
    "\\vec{A} \\times \\vec{B} & = (A_x \\hat{x} + A_y \\hat{y} + A_z \\hat{z}) \\times (B_x \\hat{x} + B_y \\hat{y} + B_z \\hat{z}) \\\\\n",
    "\\\\\n",
    "& = (A_y B_z - A_z B_y)\\hat{x} + (A_z B_x - A_x B_z)\\hat{y} + (A_x B_y - A_y B_x)\\hat{z} \\\\\n",
    "\\\\\n",
    "& = \\begin{vmatrix}\n",
    "\\hat{x} & \\hat{y} & \\hat{z}\\\\\n",
    "A_x & A_y & A_z \\\\\n",
    "B_x & B_y & B_z \n",
    "\\end{vmatrix}\n",
    "\\end{split} $$"
   ]
  },
  {
   "cell_type": "markdown",
   "id": "23501c7d",
   "metadata": {},
   "source": [
    "Since (in a right-hand coordinate system),\n",
    "\n",
    "\n",
    "$$ \\large \\begin{split}\n",
    "\\hat{x} \\times \\hat{x} & = \\hat{y} \\times \\hat{y} \\ & = \\hat{z} \\times \\hat{z} = 0 \\\\\n",
    "\\hat{x} \\times \\hat{y} & = - \\hat{y} \\times \\hat{x} \\ & = \\hat{z} \\\\\n",
    "\\hat{y} \\times \\hat{z} & = - \\hat{z} \\times \\hat{y} \\ & = \\hat{x} \\\\\n",
    "\\hat{z} \\times \\hat{x} & = - \\hat{x} \\times \\hat{z} \\ & = \\hat{y}\n",
    "\\end{split} $$"
   ]
  },
  {
   "cell_type": "markdown",
   "id": "5b7949c4",
   "metadata": {},
   "source": [
    "---"
   ]
  },
  {
   "cell_type": "markdown",
   "id": "974890d1",
   "metadata": {},
   "source": [
    "### Example 1.2 Find angles by comparing the abstract and component forms of the dot product\n",
    "\n",
    "Assume a cute of side 1 with one corner at the origin.\n",
    "\n",
    "The face diagonals \\vec{A} and \\vec{B} are\n",
    "\n",
    "$$ \\large \\vec{A} = 1\\cdot\\hat{x} + 0\\cdot\\hat{y} + 1\\cdot\\hat{z}; \\quad \\vec{B} = 0\\cdot\\hat{x} + 1\\cdot\\hat{y} + 1\\cdot\\hat{z} $$\n",
    "\n",
    "So, in component form\n",
    "\n",
    "$$ \\large \\vec{A}\\cdot\\vec{B} = 1\\cdot0 + 0 \\cdot 1 + 1\\cdot1 = 1 $$\n",
    "\n",
    "On the other hand, in abstract form\n",
    "\n",
    "$$ \\large \\vec{A}\\cdot\\vec{B} = AB\\cos\\theta = \\sqrt{2}\\sqrt{2} \\cos\\theta = 2 \\cos \\theta $$\n",
    "\n",
    "Therefore, \n",
    "\n",
    "$$ \\large \\cos \\theta = 1/2, \\quad \\text{or} \\quad \\theta = 60^\\circ$$\n"
   ]
  },
  {
   "cell_type": "markdown",
   "id": "9b4e821c",
   "metadata": {},
   "source": [
    "---"
   ]
  },
  {
   "cell_type": "markdown",
   "id": "cd32485b",
   "metadata": {},
   "source": [
    "## Problems\n",
    "\n",
    "\n",
    "### [Problem 1.3](https://study-astrophysics.com/griffiths-01-03/)\n",
    "\n",
    "\n",
    "### [Problem 1.4](https://study-astrophysics.com/griffiths-01-04/)"
   ]
  }
 ],
 "metadata": {
  "kernelspec": {
   "display_name": "Python 3",
   "language": "python",
   "name": "python3"
  },
  "language_info": {
   "codemirror_mode": {
    "name": "ipython",
    "version": 3
   },
   "file_extension": ".py",
   "mimetype": "text/x-python",
   "name": "python",
   "nbconvert_exporter": "python",
   "pygments_lexer": "ipython3",
   "version": "3.8.8"
  }
 },
 "nbformat": 4,
 "nbformat_minor": 5
}
