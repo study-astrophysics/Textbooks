{
 "cells": [
  {
   "cell_type": "markdown",
   "id": "6dfa43b1",
   "metadata": {},
   "source": [
    "# [Boas, Mathematical Methods in the Physical Sciences, 3rd Edition](https://study-astrophysics.com/boas/)"
   ]
  },
  {
   "cell_type": "markdown",
   "id": "95797587",
   "metadata": {},
   "source": [
    "---"
   ]
  },
  {
   "cell_type": "markdown",
   "id": "fb571442",
   "metadata": {},
   "source": [
    "## [Chapter 1. Infinite Series, Power Series](https://study-astrophysics.com/boas-01/)"
   ]
  },
  {
   "cell_type": "markdown",
   "id": "8bff0008",
   "metadata": {},
   "source": [
    "---"
   ]
  },
  {
   "cell_type": "markdown",
   "id": "09653c9c",
   "metadata": {},
   "source": [
    "### [Section 13. Techniques for Obtaining Power Series Expansions](https://study-astrophysics.com/boas-01-13-sum/)"
   ]
  },
  {
   "cell_type": "markdown",
   "id": "f2d099a0",
   "metadata": {},
   "source": [
    "---"
   ]
  },
  {
   "cell_type": "markdown",
   "id": "98639477",
   "metadata": {},
   "source": [
    "#### [Problem 32](https://study-astrophysics.com/boas-01-13-32/)\n",
    "\n",
    "![alt text](images/boas-01-13-32.png)"
   ]
  }
 ],
 "metadata": {
  "kernelspec": {
   "display_name": "Python 3 (ipykernel)",
   "language": "python",
   "name": "python3"
  },
  "language_info": {
   "codemirror_mode": {
    "name": "ipython",
    "version": 3
   },
   "file_extension": ".py",
   "mimetype": "text/x-python",
   "name": "python",
   "nbconvert_exporter": "python",
   "pygments_lexer": "ipython3",
   "version": "3.8.13"
  }
 },
 "nbformat": 4,
 "nbformat_minor": 5
}
