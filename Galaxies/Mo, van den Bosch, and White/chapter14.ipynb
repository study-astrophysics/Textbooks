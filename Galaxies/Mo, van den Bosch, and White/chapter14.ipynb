{
 "cells": [
  {
   "cell_type": "markdown",
   "id": "43a38c89",
   "metadata": {},
   "source": [
    "# Chapter 14. Active Galaxies"
   ]
  },
  {
   "attachments": {},
   "cell_type": "markdown",
   "id": "65252ca4",
   "metadata": {},
   "source": [
    "### Normal galaxy\n",
    "\n",
    "- Emissions dominated by *stars*\n",
    "\n",
    "- Stars\n",
    "    - Hydrodynamic equilibrium\n",
    "    - Black-body radition\n",
    "        - Temperature dependent\n",
    "            - 3,000 K $\\lesssim$ T $\\lesssim$ 40,000 K\n",
    "            - Emission wavelength: ~ 4,000 $\\mathring{\\mathrm{A}}$ to ~ 20,000 $\\mathring{\\mathrm{A}}$\n",
    "        \n",
    "\n",
    "### A small fraction of galaxy is \"Active galaxy\"\n",
    "- Much broader SED\n",
    "    - Emit full wavelength range\n",
    "        - From X-ray to radio (non-thermal radiation)\n",
    "- Optical/UV parts of spectra\n",
    "    - Strong & broad emission lines\n",
    "- Examples\n",
    "    - Seyfert galaxies\n",
    "    - Radio galaxies\n",
    "    - Quasars\n",
    "- Emission region: ~ pc scale (very small compared to the host galaxy)\n",
    "    - $L_\\text{AGN} \\gg L_\\text{host galaxy}$: almost 1,000 times brighter!\n",
    "\n",
    "\n",
    "### AGN: Important for galaxy formation\n",
    "- AGN form an important population of galaxies\n",
    "\n",
    "- AGN are powered by matter accreting onto a SMBH\n",
    "    - Implies, formation of SMBH is related to formation of galaxy\n",
    "\n",
    "- Galaxies may have experienced AGN stage\n",
    "\n",
    "- Feedback: Powerful energy source\n",
    "    - IGM\n",
    "    - Formation of galaxies"
   ]
  },
  {
   "cell_type": "code",
   "execution_count": null,
   "id": "af507a61",
   "metadata": {},
   "outputs": [],
   "source": []
  }
 ],
 "metadata": {
  "kernelspec": {
   "display_name": "Python 3 (ipykernel)",
   "language": "python",
   "name": "python3"
  },
  "language_info": {
   "codemirror_mode": {
    "name": "ipython",
    "version": 3
   },
   "file_extension": ".py",
   "mimetype": "text/x-python",
   "name": "python",
   "nbconvert_exporter": "python",
   "pygments_lexer": "ipython3",
   "version": "3.9.12"
  }
 },
 "nbformat": 4,
 "nbformat_minor": 5
}
